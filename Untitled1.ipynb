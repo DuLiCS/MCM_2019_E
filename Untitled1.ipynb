{
 "cells": [
  {
   "cell_type": "markdown",
   "metadata": {},
   "source": [
    "# 1.Preparing Data"
   ]
  },
  {
   "cell_type": "code",
   "execution_count": 27,
   "metadata": {},
   "outputs": [],
   "source": [
    "import pandas as pd"
   ]
  },
  {
   "cell_type": "code",
   "execution_count": 28,
   "metadata": {},
   "outputs": [],
   "source": [
    "import numpy as np"
   ]
  },
  {
   "cell_type": "code",
   "execution_count": 29,
   "metadata": {},
   "outputs": [
    {
     "name": "stderr",
     "output_type": "stream",
     "text": [
      "/Users/duli/anaconda3/lib/python3.6/site-packages/IPython/core/interactiveshell.py:2728: DtypeWarning: Columns (9) have mixed types. Specify dtype option on import or set low_memory=False.\n",
      "  interactivity=interactivity, compiler=compiler, result=result)\n"
     ]
    }
   ],
   "source": [
    "sheet_1 = pd.read_csv(\"1.csv\",encoding='gb18030')"
   ]
  },
  {
   "cell_type": "code",
   "execution_count": 30,
   "metadata": {},
   "outputs": [
    {
     "name": "stderr",
     "output_type": "stream",
     "text": [
      "/Users/duli/anaconda3/lib/python3.6/site-packages/IPython/core/interactiveshell.py:2728: DtypeWarning: Columns (9) have mixed types. Specify dtype option on import or set low_memory=False.\n",
      "  interactivity=interactivity, compiler=compiler, result=result)\n"
     ]
    }
   ],
   "source": [
    "sheet_2 = pd.read_csv(\"2.csv\",encoding='gb18030')"
   ]
  },
  {
   "cell_type": "code",
   "execution_count": 31,
   "metadata": {},
   "outputs": [],
   "source": [
    "excel3 = pd.ExcelFile('3.xlsx')\n",
    "sheet_3 = pd.read_excel(excel3)"
   ]
  },
  {
   "cell_type": "code",
   "execution_count": 32,
   "metadata": {},
   "outputs": [],
   "source": [
    "excel4 = pd.ExcelFile('4.xlsx')\n",
    "sheet_4 = pd.read_excel(excel4)"
   ]
  },
  {
   "cell_type": "markdown",
   "metadata": {},
   "source": [
    "# Q1"
   ]
  },
  {
   "cell_type": "code",
   "execution_count": 33,
   "metadata": {},
   "outputs": [],
   "source": [
    "import time"
   ]
  },
  {
   "cell_type": "code",
   "execution_count": 34,
   "metadata": {},
   "outputs": [],
   "source": [
    "test_f = sheet_1"
   ]
  },
  {
   "cell_type": "code",
   "execution_count": 35,
   "metadata": {},
   "outputs": [],
   "source": [
    "sheet_1['create_dt'] = pd.to_datetime(sheet_1['create_dt'])"
   ]
  },
  {
   "cell_type": "code",
   "execution_count": 38,
   "metadata": {},
   "outputs": [
    {
     "ename": "AttributeError",
     "evalue": "'numpy.ndarray' object has no attribute 'Period'",
     "output_type": "error",
     "traceback": [
      "\u001b[0;31m---------------------------------------------------------------------------\u001b[0m",
      "\u001b[0;31mAttributeError\u001b[0m                            Traceback (most recent call last)",
      "\u001b[0;32m<ipython-input-38-c4e35e14c199>\u001b[0m in \u001b[0;36m<module>\u001b[0;34m()\u001b[0m\n\u001b[0;32m----> 1\u001b[0;31m \u001b[0msheet_1\u001b[0m\u001b[0;34m[\u001b[0m\u001b[0;34m'create_dt'\u001b[0m\u001b[0;34m]\u001b[0m\u001b[0;34m.\u001b[0m\u001b[0mvalues\u001b[0m\u001b[0;34m.\u001b[0m\u001b[0mPeriod\u001b[0m\u001b[0;34m(\u001b[0m\u001b[0;34m)\u001b[0m\u001b[0;34m\u001b[0m\u001b[0m\n\u001b[0m",
      "\u001b[0;31mAttributeError\u001b[0m: 'numpy.ndarray' object has no attribute 'Period'"
     ]
    }
   ],
   "source": [
    "sheet_1['create_dt']>"
   ]
  },
  {
   "cell_type": "code",
   "execution_count": 36,
   "metadata": {},
   "outputs": [
    {
     "data": {
      "text/plain": [
       "0        2018-12-04\n",
       "1        2016-11-30\n",
       "2        2016-11-30\n",
       "3        2016-11-30\n",
       "4        2016-11-30\n",
       "5        2016-12-02\n",
       "6        2016-12-02\n",
       "7        2016-12-02\n",
       "8        2016-12-02\n",
       "9        2016-12-02\n",
       "10       2016-12-02\n",
       "11       2016-12-02\n",
       "12       2016-12-02\n",
       "13       2016-12-02\n",
       "14       2016-12-02\n",
       "15       2016-12-02\n",
       "16       2016-12-02\n",
       "17       2016-12-02\n",
       "18       2016-12-02\n",
       "19       2016-12-02\n",
       "20       2016-12-02\n",
       "21       2016-12-02\n",
       "22       2016-12-02\n",
       "23       2016-12-02\n",
       "24       2016-12-02\n",
       "25       2016-12-02\n",
       "26       2016-12-03\n",
       "27       2016-12-03\n",
       "28       2016-12-03\n",
       "29       2016-12-03\n",
       "            ...    \n",
       "611170   2017-07-21\n",
       "611171   2017-07-21\n",
       "611172   2017-07-21\n",
       "611173   2017-07-21\n",
       "611174   2017-07-21\n",
       "611175   2017-07-21\n",
       "611176   2017-07-21\n",
       "611177   2017-07-21\n",
       "611178   2017-07-21\n",
       "611179   2017-07-21\n",
       "611180   2017-07-21\n",
       "611181   2017-07-21\n",
       "611182   2017-07-21\n",
       "611183   2017-07-21\n",
       "611184   2017-07-21\n",
       "611185   2017-07-21\n",
       "611186   2017-07-21\n",
       "611187   2017-07-21\n",
       "611188   2017-07-21\n",
       "611189   2017-07-21\n",
       "611190   2017-07-21\n",
       "611191   2017-07-21\n",
       "611192   2017-07-21\n",
       "611193   2017-07-21\n",
       "611194   2017-07-21\n",
       "611195   2017-07-21\n",
       "611196   2017-07-21\n",
       "611197   2017-07-21\n",
       "611198   2017-07-21\n",
       "611199   2017-07-21\n",
       "Name: create_dt, Length: 611200, dtype: datetime64[ns]"
      ]
     },
     "execution_count": 36,
     "metadata": {},
     "output_type": "execute_result"
    }
   ],
   "source": [
    "sheet_1['create_dt']"
   ]
  },
  {
   "cell_type": "code",
   "execution_count": null,
   "metadata": {},
   "outputs": [],
   "source": []
  }
 ],
 "metadata": {
  "kernelspec": {
   "display_name": "Python 3",
   "language": "python",
   "name": "python3"
  },
  "language_info": {
   "codemirror_mode": {
    "name": "ipython",
    "version": 3
   },
   "file_extension": ".py",
   "mimetype": "text/x-python",
   "name": "python",
   "nbconvert_exporter": "python",
   "pygments_lexer": "ipython3",
   "version": "3.6.4"
  }
 },
 "nbformat": 4,
 "nbformat_minor": 2
}
