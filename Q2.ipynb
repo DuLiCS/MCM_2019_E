{
 "cells": [
  {
   "cell_type": "markdown",
   "metadata": {},
   "source": [
    "# Q2"
   ]
  },
  {
   "cell_type": "markdown",
   "metadata": {},
   "source": [
    "## Pararmeters Calculation"
   ]
  },
  {
   "cell_type": "code",
   "execution_count": 2,
   "metadata": {},
   "outputs": [],
   "source": [
    "import numpy as np\n",
    "import pandas as pd"
   ]
  },
  {
   "cell_type": "code",
   "execution_count": 145,
   "metadata": {},
   "outputs": [],
   "source": [
    "import time"
   ]
  },
  {
   "cell_type": "code",
   "execution_count": 146,
   "metadata": {},
   "outputs": [
    {
     "name": "stderr",
     "output_type": "stream",
     "text": [
      "/Users/duli/anaconda3/lib/python3.6/site-packages/IPython/core/interactiveshell.py:2728: DtypeWarning: Columns (9) have mixed types. Specify dtype option on import or set low_memory=False.\n",
      "  interactivity=interactivity, compiler=compiler, result=result)\n"
     ]
    }
   ],
   "source": [
    "sheet_1 = pd.read_csv(\"1.csv\",encoding='gb18030')"
   ]
  },
  {
   "cell_type": "code",
   "execution_count": 147,
   "metadata": {},
   "outputs": [
    {
     "name": "stderr",
     "output_type": "stream",
     "text": [
      "/Users/duli/anaconda3/lib/python3.6/site-packages/IPython/core/interactiveshell.py:2728: DtypeWarning: Columns (9) have mixed types. Specify dtype option on import or set low_memory=False.\n",
      "  interactivity=interactivity, compiler=compiler, result=result)\n"
     ]
    }
   ],
   "source": [
    "sheet_2 = pd.read_csv(\"2.csv\",encoding='gb18030')"
   ]
  },
  {
   "cell_type": "code",
   "execution_count": 148,
   "metadata": {},
   "outputs": [],
   "source": [
    "excel3 = pd.ExcelFile('3.xlsx')\n",
    "sheet_3 = pd.read_excel(excel3)"
   ]
  },
  {
   "cell_type": "code",
   "execution_count": 149,
   "metadata": {},
   "outputs": [],
   "source": [
    "excel4 = pd.ExcelFile('4.xlsx')\n",
    "sheet_4 = pd.read_excel(excel4)"
   ]
  },
  {
   "cell_type": "code",
   "execution_count": 150,
   "metadata": {},
   "outputs": [],
   "source": [
    "sheet_1['create_dt'] = sheet_1['create_dt'].astype('datetime64')"
   ]
  },
  {
   "cell_type": "code",
   "execution_count": 151,
   "metadata": {},
   "outputs": [],
   "source": [
    "sheet_2['create_dt'] = sheet_2['create_dt'].astype('datetime64')"
   ]
  },
  {
   "cell_type": "code",
   "execution_count": 152,
   "metadata": {},
   "outputs": [],
   "source": [
    "sheet_1 = sheet_1[sheet_1['is_finished']==1]"
   ]
  },
  {
   "cell_type": "code",
   "execution_count": 153,
   "metadata": {},
   "outputs": [],
   "source": [
    "sheet_2 = sheet_2[sheet_2['is_finished']==1]"
   ]
  },
  {
   "cell_type": "code",
   "execution_count": 14,
   "metadata": {},
   "outputs": [],
   "source": [
    "RCDS_Weight = np.array([(1, 1/7, 1/5),(7, 1, 2),(5, 1/2, 1)])"
   ]
  },
  {
   "cell_type": "code",
   "execution_count": 15,
   "metadata": {},
   "outputs": [],
   "source": [
    "W_ = {}\n",
    "W_sum = 0\n",
    "for i in range(RCDS_Weight.shape[0]):\n",
    "    name_matrix = ['Wc_', 'Wd_', 'Ws_']\n",
    "    temp = 1\n",
    "    for j in range(RCDS_Weight.shape[1]):\n",
    "        temp = RCDS_Weight[i, j]*temp\n",
    "    W_[name_matrix[i]] = np.power(temp,1/3)\n",
    "    W_sum += W_[name_matrix[i]]\n",
    "    \n",
    "    "
   ]
  },
  {
   "cell_type": "code",
   "execution_count": 16,
   "metadata": {},
   "outputs": [],
   "source": [
    "for i in W_:\n",
    "    W_[i] = round(W_[i]/W_sum,3)\n",
    "    "
   ]
  },
  {
   "cell_type": "code",
   "execution_count": 17,
   "metadata": {},
   "outputs": [
    {
     "data": {
      "text/plain": [
       "4.0730617812055625"
      ]
     },
     "execution_count": 17,
     "metadata": {},
     "output_type": "execute_result"
    }
   ],
   "source": [
    "W_sum"
   ]
  },
  {
   "cell_type": "code",
   "execution_count": 18,
   "metadata": {},
   "outputs": [
    {
     "data": {
      "text/plain": [
       "{'Wc_': 0.075, 'Wd_': 0.592, 'Ws_': 0.333}"
      ]
     },
     "execution_count": 18,
     "metadata": {},
     "output_type": "execute_result"
    }
   ],
   "source": [
    "W_"
   ]
  },
  {
   "cell_type": "code",
   "execution_count": 8,
   "metadata": {},
   "outputs": [],
   "source": [
    "b = np.linalg.eigvals(RCDS_Weight)"
   ]
  },
  {
   "cell_type": "code",
   "execution_count": 9,
   "metadata": {},
   "outputs": [],
   "source": [
    "lamb = b[0].real"
   ]
  },
  {
   "cell_type": "code",
   "execution_count": 10,
   "metadata": {},
   "outputs": [
    {
     "data": {
      "text/plain": [
       "3.014151882186208"
      ]
     },
     "execution_count": 10,
     "metadata": {},
     "output_type": "execute_result"
    }
   ],
   "source": [
    "lamb"
   ]
  },
  {
   "cell_type": "code",
   "execution_count": 11,
   "metadata": {},
   "outputs": [],
   "source": [
    "CI = (lamb - 3)/2"
   ]
  },
  {
   "cell_type": "code",
   "execution_count": 12,
   "metadata": {},
   "outputs": [
    {
     "data": {
      "text/plain": [
       "0.0070759410931040545"
      ]
     },
     "execution_count": 12,
     "metadata": {},
     "output_type": "execute_result"
    }
   ],
   "source": [
    "CI"
   ]
  },
  {
   "cell_type": "code",
   "execution_count": 13,
   "metadata": {},
   "outputs": [
    {
     "data": {
      "text/plain": [
       "array([[1.        , 0.14285714, 0.2       ],\n",
       "       [7.        , 1.        , 2.        ],\n",
       "       [5.        , 0.5       , 1.        ]])"
      ]
     },
     "execution_count": 13,
     "metadata": {},
     "output_type": "execute_result"
    }
   ],
   "source": [
    "RCDS_Weight"
   ]
  },
  {
   "cell_type": "code",
   "execution_count": 165,
   "metadata": {},
   "outputs": [],
   "source": [
    "RI = 0.58"
   ]
  },
  {
   "cell_type": "code",
   "execution_count": 166,
   "metadata": {},
   "outputs": [],
   "source": [
    "CR = CI / RI"
   ]
  },
  {
   "cell_type": "code",
   "execution_count": 167,
   "metadata": {},
   "outputs": [
    {
     "data": {
      "text/plain": [
       "0.012199898436385536"
      ]
     },
     "execution_count": 167,
     "metadata": {},
     "output_type": "execute_result"
    }
   ],
   "source": [
    "CR"
   ]
  },
  {
   "cell_type": "markdown",
   "metadata": {},
   "source": [
    "## Implementation"
   ]
  },
  {
   "cell_type": "code",
   "execution_count": 168,
   "metadata": {},
   "outputs": [],
   "source": [
    "a = sheet_3[np.logical_and((sheet_3['begin_time']<=np.datetime64('2017-09-02 23:59:59')),(sheet_3['end_time']>=np.datetime64('2017-09-02 00:00:00')))]"
   ]
  },
  {
   "cell_type": "code",
   "execution_count": 169,
   "metadata": {},
   "outputs": [],
   "source": [
    "sheet_3_vaild = sheet_3[sheet_3['state']==5]"
   ]
  },
  {
   "cell_type": "code",
   "execution_count": 170,
   "metadata": {},
   "outputs": [],
   "source": [
    "Q2_start_time = np.datetime64('2016-11-30 00:00:00')"
   ]
  },
  {
   "cell_type": "code",
   "execution_count": 171,
   "metadata": {},
   "outputs": [],
   "source": [
    "Q2_days = np.datetime64('2016-11-30')"
   ]
  },
  {
   "cell_type": "code",
   "execution_count": 172,
   "metadata": {},
   "outputs": [],
   "source": [
    "Q2_day_time = np.datetime64('2016-11-30 23:59:59')"
   ]
  },
  {
   "cell_type": "code",
   "execution_count": 173,
   "metadata": {},
   "outputs": [],
   "source": [
    "Q2_end_time = np.datetime64('2019-01-02 23:59:59')"
   ]
  },
  {
   "cell_type": "code",
   "execution_count": 174,
   "metadata": {},
   "outputs": [],
   "source": [
    "Discount_info_per_day = {}"
   ]
  },
  {
   "cell_type": "code",
   "execution_count": 175,
   "metadata": {},
   "outputs": [],
   "source": [
    "while Q2_start_time<=Q2_end_time:\n",
    "    \n",
    "    a = sheet_3_vaild[np.logical_and((sheet_3_vaild['begin_time']<=Q2_day_time),(sheet_3_vaild['end_time']>=Q2_start_time))]\n",
    "    Discount_info_per_day[Q2_days] = a\n",
    "    \n",
    "    Q2_start_time = Q2_start_time + 86400\n",
    "    Q2_days = Q2_days + 1\n",
    "    Q2_day_time = Q2_day_time + 86400"
   ]
  },
  {
   "cell_type": "markdown",
   "metadata": {},
   "source": [
    "## After 2017-03-07"
   ]
  },
  {
   "cell_type": "code",
   "execution_count": 176,
   "metadata": {},
   "outputs": [],
   "source": [
    "C_per_day = {}"
   ]
  },
  {
   "cell_type": "code",
   "execution_count": 177,
   "metadata": {},
   "outputs": [],
   "source": [
    "S_per_day = {}"
   ]
  },
  {
   "cell_type": "code",
   "execution_count": 178,
   "metadata": {},
   "outputs": [],
   "source": [
    "D_per_day ={}"
   ]
  },
  {
   "cell_type": "code",
   "execution_count": 179,
   "metadata": {},
   "outputs": [],
   "source": [
    "Q2_end_time = np.datetime64('2019-01-02')"
   ]
  },
  {
   "cell_type": "code",
   "execution_count": 180,
   "metadata": {},
   "outputs": [],
   "source": [
    "Q2_start_time = np.datetime64('2017-03-07')"
   ]
  },
  {
   "cell_type": "code",
   "execution_count": 181,
   "metadata": {},
   "outputs": [],
   "source": [
    "sheet_1 = pd.concat([sheet_1,sheet_2])"
   ]
  },
  {
   "cell_type": "code",
   "execution_count": 182,
   "metadata": {},
   "outputs": [],
   "source": [
    "while Q2_start_time<=Q2_end_time:\n",
    "    Discount_record = sheet_1[sheet_1['create_dt']==Q2_start_time]\n",
    "    test_Q2= pd.concat([Discount_record['sku_id'],Discount_info_per_day[Q2_start_time]['sku_id']])\n",
    "    Class_of_goods = len(test_Q2.unique())\n",
    "    C_per_day[Q2_start_time] = Class_of_goods\n",
    "    Sales_count_sheet = Discount_record\n",
    "    Sales_count = Discount_record['sku_cnt'].sum()\n",
    "    S_per_day[Q2_start_time] = Sales_count\n",
    "    Dis_info_board= Discount_info_per_day[Q2_start_time]\n",
    "    Dis_info_un = Dis_info_board.groupby(['sku_id']).sum()\n",
    "    Dis_info_un['id'] = (Dis_info_un['pdj_price']-Dis_info_un['promotion_price'])/Dis_info_un['pdj_price']\n",
    "    Dis_rate_board = (Dis_info_un['id'].sum())/len(Dis_info_un)\n",
    "    for i in range(len(Dis_info_un)):\n",
    "        Discount_record = Discount_record[Discount_record['sku_id']!=Dis_info_un.index[1]]\n",
    "    \n",
    "    Discount_record_un = Discount_record.groupby(['sku_id']).sum()\n",
    "    Discount_record_un['is_finished'] = (Discount_record_un['sku_prc'] - Discount_record_un['sku_sale_prc'])/Discount_record_un['sku_prc']\n",
    "    if Discount_record_un['is_finished'].sum()!=0:\n",
    "        Dis_rate_record = (Discount_record_un['is_finished'].sum())/len(Discount_record_un)\n",
    "    else:\n",
    "        Dis_rate_record = 0\n",
    "    Dis_rate = (Dis_rate_board + Dis_rate_record)/2\n",
    "    D_per_day[Q2_start_time] = Dis_rate\n",
    "    \n",
    "    Q2_start_time = Q2_start_time + 1\n",
    "        \n",
    "    "
   ]
  },
  {
   "cell_type": "markdown",
   "metadata": {},
   "source": [
    "## Before 2017-03-07"
   ]
  },
  {
   "cell_type": "code",
   "execution_count": 183,
   "metadata": {},
   "outputs": [],
   "source": [
    "Q2_end_time = np.datetime64('2017-03-06')"
   ]
  },
  {
   "cell_type": "code",
   "execution_count": 184,
   "metadata": {},
   "outputs": [],
   "source": [
    "Q2_start_time = np.datetime64('2016-11-30')"
   ]
  },
  {
   "cell_type": "code",
   "execution_count": 191,
   "metadata": {},
   "outputs": [],
   "source": [
    "while Q2_start_time<=Q2_end_time:\n",
    "    Discount_record = sheet_1[sheet_1['create_dt']==Q2_start_time]\n",
    "    No_of_Goods = len(Discount_record['sku_id'].unique())\n",
    "    C_per_day[Q2_start_time] = No_of_Goods\n",
    "    Sales_count_bef = Discount_record['sku_cnt'].sum()\n",
    "    S_per_day[Q2_start_time] = Sales_count_bef\n",
    "    Discount_un = Discount_record.groupby(['sku_id']).sum()\n",
    "    Discount_un['is_finished'] = (Discount_un['sku_prc'] - Discount_un['sku_sale_prc'])/Discount_un['sku_prc']\n",
    "    \n",
    "    if Discount_un['is_finished'].sum()!=0:\n",
    "        Dis_rate = (Discount_un['is_finished'].sum())/len(Discount_un)\n",
    "    else:\n",
    "        Dis_rate = 0\n",
    "\n",
    "    D_per_day[Q2_start_time] = Dis_rate\n",
    "    \n",
    "    Q2_start_time = Q2_start_time + 1"
   ]
  },
  {
   "cell_type": "code",
   "execution_count": 213,
   "metadata": {},
   "outputs": [],
   "source": [
    "\n",
    "start_time = np.datetime64('2016-11-30')\n",
    "min_c = 10000\n",
    "for i in range(len(C_per_day)):\n",
    "    if (C_per_day[start_time]<min_c):\n",
    "        min_c = C_per_day[start_time]\n",
    "    start_time = start_time + 1\n"
   ]
  },
  {
   "cell_type": "code",
   "execution_count": 214,
   "metadata": {},
   "outputs": [],
   "source": [
    "\n",
    "start_time = np.datetime64('2016-11-30')\n",
    "max_c = 10\n",
    "for i in range(len(C_per_day)):\n",
    "    if (C_per_day[start_time]>max_c):\n",
    "        max_c = C_per_day[start_time]\n",
    "    start_time = start_time + 1\n"
   ]
  },
  {
   "cell_type": "code",
   "execution_count": 217,
   "metadata": {},
   "outputs": [],
   "source": [
    "start_time = np.datetime64('2016-11-30')\n",
    "min_s = 10000\n",
    "for i in range(len(S_per_day)):\n",
    "    if (S_per_day[start_time]<min_s):\n",
    "        min_s = S_per_day[start_time]\n",
    "    start_time = start_time + 1\n"
   ]
  },
  {
   "cell_type": "code",
   "execution_count": 219,
   "metadata": {},
   "outputs": [],
   "source": [
    "\n",
    "start_time = np.datetime64('2016-11-30')\n",
    "max_s = 10\n",
    "for i in range(len(S_per_day)):\n",
    "    if (S_per_day[start_time]>max_s):\n",
    "        max_s = S_per_day[start_time]\n",
    "    start_time = start_time + 1\n",
    "\n"
   ]
  },
  {
   "cell_type": "code",
   "execution_count": 222,
   "metadata": {},
   "outputs": [],
   "source": [
    "start_time = np.datetime64('2016-11-30')\n",
    "min_d = 10000\n",
    "for i in range(len(D_per_day)):\n",
    "    if (D_per_day[start_time]<min_d):\n",
    "        min_d = D_per_day[start_time]\n",
    "    start_time = start_time + 1\n",
    "\n"
   ]
  },
  {
   "cell_type": "code",
   "execution_count": 244,
   "metadata": {},
   "outputs": [],
   "source": [
    "\n",
    "start_time = np.datetime64('2016-11-30')\n",
    "max_d = 0.1\n",
    "for i in range(len(D_per_day)):\n",
    "    if (D_per_day[start_time]>max_d):\n",
    "        max_d = D_per_day[start_time]\n",
    "    start_time = start_time + 1\n",
    "\n"
   ]
  },
  {
   "cell_type": "code",
   "execution_count": 226,
   "metadata": {},
   "outputs": [
    {
     "data": {
      "text/plain": [
       "110"
      ]
     },
     "execution_count": 226,
     "metadata": {},
     "output_type": "execute_result"
    }
   ],
   "source": [
    "min_c"
   ]
  },
  {
   "cell_type": "code",
   "execution_count": 227,
   "metadata": {},
   "outputs": [
    {
     "data": {
      "text/plain": [
       "3056"
      ]
     },
     "execution_count": 227,
     "metadata": {},
     "output_type": "execute_result"
    }
   ],
   "source": [
    "max_c"
   ]
  },
  {
   "cell_type": "code",
   "execution_count": 228,
   "metadata": {},
   "outputs": [
    {
     "data": {
      "text/plain": [
       "0.029546289438748687"
      ]
     },
     "execution_count": 228,
     "metadata": {},
     "output_type": "execute_result"
    }
   ],
   "source": [
    "min_d"
   ]
  },
  {
   "cell_type": "code",
   "execution_count": 245,
   "metadata": {},
   "outputs": [
    {
     "data": {
      "text/plain": [
       "0.22859252190408413"
      ]
     },
     "execution_count": 245,
     "metadata": {},
     "output_type": "execute_result"
    }
   ],
   "source": [
    "max_d"
   ]
  },
  {
   "cell_type": "code",
   "execution_count": 230,
   "metadata": {},
   "outputs": [
    {
     "data": {
      "text/plain": [
       "0"
      ]
     },
     "execution_count": 230,
     "metadata": {},
     "output_type": "execute_result"
    }
   ],
   "source": [
    "min_s"
   ]
  },
  {
   "cell_type": "code",
   "execution_count": 231,
   "metadata": {},
   "outputs": [
    {
     "data": {
      "text/plain": [
       "19590"
      ]
     },
     "execution_count": 231,
     "metadata": {},
     "output_type": "execute_result"
    }
   ],
   "source": [
    "max_s"
   ]
  },
  {
   "cell_type": "markdown",
   "metadata": {},
   "source": [
    "## Calculating the discount rate\n"
   ]
  },
  {
   "cell_type": "code",
   "execution_count": 236,
   "metadata": {},
   "outputs": [],
   "source": [
    "value_c = {}\n",
    "start_time = np.datetime64('2016-11-30')\n",
    "for i in range(len(C_per_day)):\n",
    "    value_c[start_time] = np.ceil(C_per_day[start_time]*5/(max_c-min_c))\n",
    "    start_time = start_time + 1"
   ]
  },
  {
   "cell_type": "code",
   "execution_count": 246,
   "metadata": {},
   "outputs": [],
   "source": [
    "value_d = {}\n",
    "start_time = np.datetime64('2016-11-30')\n",
    "for i in range(len(D_per_day)):\n",
    "    value_d[start_time] = np.ceil((D_per_day[start_time]-min_d)*5/(max_d-min_d))\n",
    "    start_time = start_time + 1"
   ]
  },
  {
   "cell_type": "code",
   "execution_count": 242,
   "metadata": {},
   "outputs": [],
   "source": [
    "value_s = {}\n",
    "start_time = np.datetime64('2016-11-30')\n",
    "for i in range(len(S_per_day)):\n",
    "    value_s[start_time] = np.ceil(S_per_day[start_time]*5/(max_s-min_s))\n",
    "    start_time = start_time + 1"
   ]
  },
  {
   "cell_type": "code",
   "execution_count": 248,
   "metadata": {},
   "outputs": [],
   "source": [
    "Value_dic = {}\n",
    "start_time = np.datetime64('2016-11-30')\n",
    "\n",
    "for i in range(len(value_c)):\n",
    "    value_temp = value_c[start_time]*W_['Wc_']+value_d[start_time]*W_['Wd_']+value_s[start_time]*W_['Ws_']\n",
    "    Value_dic[start_time] = value_temp\n",
    "    \n",
    "    start_time = start_time + 1\n",
    "    "
   ]
  },
  {
   "cell_type": "code",
   "execution_count": 258,
   "metadata": {},
   "outputs": [],
   "source": [
    "value_c_ = {}\n",
    "start_time = np.datetime64('2016-11-30')\n",
    "for i in range(len(C_per_day)):\n",
    "    value_c_[start_time] = (C_per_day[start_time]/(max_c-min_c))\n",
    "    start_time = start_time + 1"
   ]
  },
  {
   "cell_type": "code",
   "execution_count": 259,
   "metadata": {},
   "outputs": [],
   "source": [
    "value_d_ = {}\n",
    "start_time = np.datetime64('2016-11-30')\n",
    "for i in range(len(D_per_day)):\n",
    "    value_d_[start_time] = ((D_per_day[start_time]-min_d)/(max_d-min_d))\n",
    "    start_time = start_time + 1"
   ]
  },
  {
   "cell_type": "code",
   "execution_count": 260,
   "metadata": {},
   "outputs": [],
   "source": [
    "value_s_ = {}\n",
    "start_time = np.datetime64('2016-11-30')\n",
    "for i in range(len(S_per_day)):\n",
    "    value_s_[start_time] = (S_per_day[start_time]/(max_s-min_s))\n",
    "    start_time = start_time + 1"
   ]
  },
  {
   "cell_type": "code",
   "execution_count": 261,
   "metadata": {},
   "outputs": [],
   "source": [
    "Value_dic_ = {}\n",
    "start_time = np.datetime64('2016-11-30')\n",
    "\n",
    "for i in range(len(value_c_)):\n",
    "    value_temp = value_c_[start_time]*W_['Wc_']+value_d_[start_time]*W_['Wd_']+value_s_[start_time]*W_['Ws_']\n",
    "    Value_dic_[start_time] = value_temp\n",
    "    \n",
    "    start_time = start_time + 1\n",
    "    "
   ]
  },
  {
   "cell_type": "code",
   "execution_count": 262,
   "metadata": {},
   "outputs": [
    {
     "data": {
      "text/plain": [
       "{numpy.datetime64('2016-11-30'): 0.2265308548496164,\n",
       " numpy.datetime64('2016-12-01'): 0.1678058944465329,\n",
       " numpy.datetime64('2016-12-02'): 0.1712594551890287,\n",
       " numpy.datetime64('2016-12-03'): 0.18572752376847146,\n",
       " numpy.datetime64('2016-12-04'): 0.15145026739192266,\n",
       " numpy.datetime64('2016-12-05'): 0.13829067474634532,\n",
       " numpy.datetime64('2016-12-06'): 0.2589102366565755,\n",
       " numpy.datetime64('2016-12-07'): 0.15652731730531783,\n",
       " numpy.datetime64('2016-12-08'): 0.21482998415871826,\n",
       " numpy.datetime64('2016-12-09'): 0.22230154983323588,\n",
       " numpy.datetime64('2016-12-10'): 0.16772563281210706,\n",
       " numpy.datetime64('2016-12-11'): 0.15111340418881777,\n",
       " numpy.datetime64('2016-12-12'): 0.1848742378913406,\n",
       " numpy.datetime64('2016-12-13'): 0.16605008487043255,\n",
       " numpy.datetime64('2016-12-14'): 0.1569959776224823,\n",
       " numpy.datetime64('2016-12-15'): 0.16162714748059975,\n",
       " numpy.datetime64('2016-12-16'): 0.18570276065789634,\n",
       " numpy.datetime64('2016-12-17'): 0.16789736743218653,\n",
       " numpy.datetime64('2016-12-18'): 0.16473785892697063,\n",
       " numpy.datetime64('2016-12-19'): 0.19938099706181645,\n",
       " numpy.datetime64('2016-12-20'): 0.2187636505615146,\n",
       " numpy.datetime64('2016-12-21'): 0.14971284321728476,\n",
       " numpy.datetime64('2016-12-22'): 0.19964637426096235,\n",
       " numpy.datetime64('2016-12-23'): 0.21404565219056956,\n",
       " numpy.datetime64('2016-12-24'): 0.13454266662393258,\n",
       " numpy.datetime64('2016-12-25'): 0.19661822554239733,\n",
       " numpy.datetime64('2016-12-26'): 0.2126535614869701,\n",
       " numpy.datetime64('2016-12-27'): 0.1937046369668929,\n",
       " numpy.datetime64('2016-12-28'): 0.13271792411941674,\n",
       " numpy.datetime64('2016-12-29'): 0.10397752940583956,\n",
       " numpy.datetime64('2016-12-30'): 0.11323836596789597,\n",
       " numpy.datetime64('2016-12-31'): 0.14303790290870214,\n",
       " numpy.datetime64('2017-01-01'): 0.09571282207797588,\n",
       " numpy.datetime64('2017-01-02'): 0.07236276562264889,\n",
       " numpy.datetime64('2017-01-03'): 0.13567772197383382,\n",
       " numpy.datetime64('2017-01-04'): 0.1936355104428351,\n",
       " numpy.datetime64('2017-01-05'): 0.16543501810668274,\n",
       " numpy.datetime64('2017-01-06'): 0.1764654080991158,\n",
       " numpy.datetime64('2017-01-07'): 0.14633795627994692,\n",
       " numpy.datetime64('2017-01-08'): 0.1271838325439135,\n",
       " numpy.datetime64('2017-01-09'): 0.109661241312225,\n",
       " numpy.datetime64('2017-01-10'): 0.20315045234943685,\n",
       " numpy.datetime64('2017-01-11'): 0.15210354764050435,\n",
       " numpy.datetime64('2017-01-12'): 0.08325587750468796,\n",
       " numpy.datetime64('2017-01-13'): 0.1689815841977137,\n",
       " numpy.datetime64('2017-01-14'): 0.11493993010425432,\n",
       " numpy.datetime64('2017-01-15'): 0.10990146098104325,\n",
       " numpy.datetime64('2017-01-16'): 0.1454245826460671,\n",
       " numpy.datetime64('2017-01-17'): 0.14210345996998539,\n",
       " numpy.datetime64('2017-01-18'): 0.12343508940451409,\n",
       " numpy.datetime64('2017-01-19'): 0.11860172152401892,\n",
       " numpy.datetime64('2017-01-20'): 0.12097850839919091,\n",
       " numpy.datetime64('2017-01-21'): 0.11322186200912675,\n",
       " numpy.datetime64('2017-01-22'): 0.07623018096994008,\n",
       " numpy.datetime64('2017-01-23'): 0.12752562810475906,\n",
       " numpy.datetime64('2017-01-24'): 0.16128729489854138,\n",
       " numpy.datetime64('2017-01-25'): 0.1384350672153398,\n",
       " numpy.datetime64('2017-01-26'): 0.09783732270838423,\n",
       " numpy.datetime64('2017-01-27'): 0.07493210505792466,\n",
       " numpy.datetime64('2017-01-28'): 0.1153069527863847,\n",
       " numpy.datetime64('2017-01-29'): 0.11093400565318225,\n",
       " numpy.datetime64('2017-01-30'): 0.14893040257934853,\n",
       " numpy.datetime64('2017-01-31'): 0.037848838356712565,\n",
       " numpy.datetime64('2017-02-01'): 0.11524940150538004,\n",
       " numpy.datetime64('2017-02-02'): 0.09903927877881616,\n",
       " numpy.datetime64('2017-02-03'): 0.1301335067392748,\n",
       " numpy.datetime64('2017-02-04'): 0.11012382108287133,\n",
       " numpy.datetime64('2017-02-05'): 0.1204386727852646,\n",
       " numpy.datetime64('2017-02-06'): 0.1288598003009982,\n",
       " numpy.datetime64('2017-02-07'): 0.11589125763961579,\n",
       " numpy.datetime64('2017-02-08'): 0.10064100896489221,\n",
       " numpy.datetime64('2017-02-09'): 0.06553395951346105,\n",
       " numpy.datetime64('2017-02-10'): 0.008517081120194123,\n",
       " numpy.datetime64('2017-02-11'): 0.08590325406471709,\n",
       " numpy.datetime64('2017-02-12'): 0.12916826976196388,\n",
       " numpy.datetime64('2017-02-13'): 0.09584028501946246,\n",
       " numpy.datetime64('2017-02-14'): 0.1059925548844912,\n",
       " numpy.datetime64('2017-02-15'): 0.11475472391589601,\n",
       " numpy.datetime64('2017-02-16'): 0.12629817797123818,\n",
       " numpy.datetime64('2017-02-17'): 0.13688792734858984,\n",
       " numpy.datetime64('2017-02-18'): 0.10663977357862853,\n",
       " numpy.datetime64('2017-02-19'): 0.11376713580596583,\n",
       " numpy.datetime64('2017-02-20'): 0.07509652477542386,\n",
       " numpy.datetime64('2017-02-21'): 0.14532789740255478,\n",
       " numpy.datetime64('2017-02-22'): 0.08434635802216617,\n",
       " numpy.datetime64('2017-02-23'): 0.12917403307208294,\n",
       " numpy.datetime64('2017-02-24'): 0.13357805916644339,\n",
       " numpy.datetime64('2017-02-25'): 0.10780588183760142,\n",
       " numpy.datetime64('2017-02-26'): 0.10476216147814184,\n",
       " numpy.datetime64('2017-02-27'): 0.13430976938807374,\n",
       " numpy.datetime64('2017-02-28'): 0.062238247502130785,\n",
       " numpy.datetime64('2017-03-01'): 0.10687619481676434,\n",
       " numpy.datetime64('2017-03-02'): 0.13935483116359196,\n",
       " numpy.datetime64('2017-03-03'): 0.09685732631261924,\n",
       " numpy.datetime64('2017-03-04'): 0.07307814365462992,\n",
       " numpy.datetime64('2017-03-05'): 0.10955743552685482,\n",
       " numpy.datetime64('2017-03-06'): 0.10724030747343624,\n",
       " numpy.datetime64('2017-03-07'): 0.5131735533605233,\n",
       " numpy.datetime64('2017-03-08'): 0.5264576563981587,\n",
       " numpy.datetime64('2017-03-09'): 0.5402937663123932,\n",
       " numpy.datetime64('2017-03-10'): 0.5213033139897516,\n",
       " numpy.datetime64('2017-03-11'): 0.5297083566610211,\n",
       " numpy.datetime64('2017-03-12'): 0.5393705578530579,\n",
       " numpy.datetime64('2017-03-13'): 0.534781840121637,\n",
       " numpy.datetime64('2017-03-14'): 0.5289646320953293,\n",
       " numpy.datetime64('2017-03-15'): 0.5153209792963642,\n",
       " numpy.datetime64('2017-03-16'): 0.5265723429592702,\n",
       " numpy.datetime64('2017-03-17'): 0.5250658839874112,\n",
       " numpy.datetime64('2017-03-18'): 0.5167268204771751,\n",
       " numpy.datetime64('2017-03-19'): 0.5261639736276729,\n",
       " numpy.datetime64('2017-03-20'): 0.5240038760666716,\n",
       " numpy.datetime64('2017-03-21'): 0.4631550852046871,\n",
       " numpy.datetime64('2017-03-22'): 0.4580753830394532,\n",
       " numpy.datetime64('2017-03-23'): 0.4544926073433865,\n",
       " numpy.datetime64('2017-03-24'): 0.46090736159104995,\n",
       " numpy.datetime64('2017-03-25'): 0.4654754937879057,\n",
       " numpy.datetime64('2017-03-26'): 0.47098439077958276,\n",
       " numpy.datetime64('2017-03-27'): 0.4580694623240763,\n",
       " numpy.datetime64('2017-03-28'): 0.38894446896954454,\n",
       " numpy.datetime64('2017-03-29'): 0.370455853314388,\n",
       " numpy.datetime64('2017-03-30'): 0.359184405077955,\n",
       " numpy.datetime64('2017-03-31'): 0.4063980687491187,\n",
       " numpy.datetime64('2017-04-01'): 0.36983813684668265,\n",
       " numpy.datetime64('2017-04-02'): 0.35891773488088907,\n",
       " numpy.datetime64('2017-04-03'): 0.3657176369363782,\n",
       " numpy.datetime64('2017-04-04'): 0.38642623142279126,\n",
       " numpy.datetime64('2017-04-05'): 0.38340563278155787,\n",
       " numpy.datetime64('2017-04-06'): 0.39045735367776696,\n",
       " numpy.datetime64('2017-04-07'): 0.40722689450490257,\n",
       " numpy.datetime64('2017-04-08'): 0.3789794500091762,\n",
       " numpy.datetime64('2017-04-09'): 0.3812193392177923,\n",
       " numpy.datetime64('2017-04-10'): 0.3756787746672683,\n",
       " numpy.datetime64('2017-04-11'): 0.4117194306079722,\n",
       " numpy.datetime64('2017-04-12'): 0.39972403253944827,\n",
       " numpy.datetime64('2017-04-13'): 0.40847487928065795,\n",
       " numpy.datetime64('2017-04-14'): 0.39362698843810895,\n",
       " numpy.datetime64('2017-04-15'): 0.7827501378046283,\n",
       " numpy.datetime64('2017-04-16'): 0.5817555679140137,\n",
       " numpy.datetime64('2017-04-17'): 0.43144018683774404,\n",
       " numpy.datetime64('2017-04-18'): 0.3888431691032365,\n",
       " numpy.datetime64('2017-04-19'): 0.41189765856277744,\n",
       " numpy.datetime64('2017-04-20'): 0.40951151276182635,\n",
       " numpy.datetime64('2017-04-21'): 0.4275668583735205,\n",
       " numpy.datetime64('2017-04-22'): 0.4229385963772398,\n",
       " numpy.datetime64('2017-04-23'): 0.40699776123237325,\n",
       " numpy.datetime64('2017-04-24'): 0.4013935019884623,\n",
       " numpy.datetime64('2017-04-25'): 0.40812675097114254,\n",
       " numpy.datetime64('2017-04-26'): 0.4077868324866258,\n",
       " numpy.datetime64('2017-04-27'): 0.3746167358246249,\n",
       " numpy.datetime64('2017-04-28'): 0.3670145027109484,\n",
       " numpy.datetime64('2017-04-29'): 0.37698803612056964,\n",
       " numpy.datetime64('2017-04-30'): 0.33727519071277395,\n",
       " numpy.datetime64('2017-05-01'): 0.35182583989855154,\n",
       " numpy.datetime64('2017-05-02'): 0.3338299709774306,\n",
       " numpy.datetime64('2017-05-03'): 0.33319189727023624,\n",
       " numpy.datetime64('2017-05-04'): 0.3529906263680514,\n",
       " numpy.datetime64('2017-05-05'): 0.4897504089705791,\n",
       " numpy.datetime64('2017-05-06'): 0.5019960497540374,\n",
       " numpy.datetime64('2017-05-07'): 0.5024660337679103,\n",
       " numpy.datetime64('2017-05-08'): 0.3595185638609609,\n",
       " numpy.datetime64('2017-05-09'): 0.3650920611685454,\n",
       " numpy.datetime64('2017-05-10'): 0.33500183569458686,\n",
       " numpy.datetime64('2017-05-11'): 0.47357488119232755,\n",
       " numpy.datetime64('2017-05-12'): 0.4713551711379899,\n",
       " numpy.datetime64('2017-05-13'): 0.5890877235256303,\n",
       " numpy.datetime64('2017-05-14'): 0.5338597662028335,\n",
       " numpy.datetime64('2017-05-15'): 0.47603195647927915,\n",
       " numpy.datetime64('2017-05-16'): 0.4724973522099856,\n",
       " numpy.datetime64('2017-05-17'): 0.4657607345391814,\n",
       " numpy.datetime64('2017-05-18'): 0.4713603464711554,\n",
       " numpy.datetime64('2017-05-19'): 0.48817936552652397,\n",
       " numpy.datetime64('2017-05-20'): 0.492863797289869,\n",
       " numpy.datetime64('2017-05-21'): 0.47557836723885477,\n",
       " numpy.datetime64('2017-05-22'): 0.4744897450642821,\n",
       " numpy.datetime64('2017-05-23'): 0.479156557856994,\n",
       " numpy.datetime64('2017-05-24'): 0.455983569025213,\n",
       " numpy.datetime64('2017-05-25'): 0.4893362182969487,\n",
       " numpy.datetime64('2017-05-26'): 0.5012564582514226,\n",
       " numpy.datetime64('2017-05-27'): 0.5293277060724425,\n",
       " numpy.datetime64('2017-05-28'): 0.5417689937867326,\n",
       " numpy.datetime64('2017-05-29'): 0.5409857584582699,\n",
       " numpy.datetime64('2017-05-30'): 0.517853396011322,\n",
       " numpy.datetime64('2017-05-31'): 0.48459337956870985,\n",
       " numpy.datetime64('2017-06-01'): 0.4758115966964517,\n",
       " numpy.datetime64('2017-06-02'): 0.5270483448635004,\n",
       " numpy.datetime64('2017-06-03'): 0.5132766421800087,\n",
       " numpy.datetime64('2017-06-04'): 0.5349666255317378,\n",
       " numpy.datetime64('2017-06-05'): 0.5064078539356894,\n",
       " numpy.datetime64('2017-06-06'): 0.49929401979762195,\n",
       " numpy.datetime64('2017-06-07'): 0.4864346570482045,\n",
       " numpy.datetime64('2017-06-08'): 0.49057278876435423,\n",
       " numpy.datetime64('2017-06-09'): 0.4795245725099035,\n",
       " numpy.datetime64('2017-06-10'): 0.5002278085318744,\n",
       " numpy.datetime64('2017-06-11'): 0.497770024719875,\n",
       " numpy.datetime64('2017-06-12'): 0.47985029438635945,\n",
       " numpy.datetime64('2017-06-13'): 0.45502958586224074,\n",
       " numpy.datetime64('2017-06-14'): 0.4683998779402795,\n",
       " numpy.datetime64('2017-06-15'): 0.4946102510771423,\n",
       " numpy.datetime64('2017-06-16'): 0.6706004162558684,\n",
       " numpy.datetime64('2017-06-17'): 0.6133704952475246,\n",
       " numpy.datetime64('2017-06-18'): 0.6328176726930151,\n",
       " numpy.datetime64('2017-06-19'): 0.5680770058701647,\n",
       " numpy.datetime64('2017-06-20'): 0.5242032382940794,\n",
       " numpy.datetime64('2017-06-21'): 0.48923053758489093,\n",
       " numpy.datetime64('2017-06-22'): 0.4897309760925416,\n",
       " numpy.datetime64('2017-06-23'): 0.49682381578773765,\n",
       " numpy.datetime64('2017-06-24'): 0.4978060221756406,\n",
       " numpy.datetime64('2017-06-25'): 0.4956714851685819,\n",
       " numpy.datetime64('2017-06-26'): 0.4921620865098731,\n",
       " numpy.datetime64('2017-06-27'): 0.4890648058141595,\n",
       " numpy.datetime64('2017-06-28'): 0.47064221219578956,\n",
       " numpy.datetime64('2017-06-29'): 0.48226038898709983,\n",
       " numpy.datetime64('2017-06-30'): 0.4611613926080165,\n",
       " numpy.datetime64('2017-07-01'): 0.5231039560320817,\n",
       " numpy.datetime64('2017-07-02'): 0.5219419393932883,\n",
       " numpy.datetime64('2017-07-03'): 0.5143372587654991,\n",
       " numpy.datetime64('2017-07-04'): 0.4526936678659155,\n",
       " numpy.datetime64('2017-07-05'): 0.46258174106122224,\n",
       " numpy.datetime64('2017-07-06'): 0.46029101181010773,\n",
       " numpy.datetime64('2017-07-07'): 0.5204014868802457,\n",
       " numpy.datetime64('2017-07-08'): 0.4547394720620979,\n",
       " numpy.datetime64('2017-07-09'): 0.47350326998560077,\n",
       " numpy.datetime64('2017-07-10'): 0.4658224758504971,\n",
       " numpy.datetime64('2017-07-11'): 0.44596538040189193,\n",
       " numpy.datetime64('2017-07-12'): 0.43655562161332545,\n",
       " numpy.datetime64('2017-07-13'): 0.3788378627742677,\n",
       " numpy.datetime64('2017-07-14'): 0.4517830001659756,\n",
       " numpy.datetime64('2017-07-15'): 0.45433103680749304,\n",
       " numpy.datetime64('2017-07-16'): 0.49691149699315645,\n",
       " numpy.datetime64('2017-07-17'): 0.3467689900045644,\n",
       " numpy.datetime64('2017-07-18'): 0.3520573600382665,\n",
       " numpy.datetime64('2017-07-19'): 0.34827801275309545,\n",
       " numpy.datetime64('2017-07-20'): 0.3658369795038438,\n",
       " numpy.datetime64('2017-07-21'): 0.3671692945397793,\n",
       " numpy.datetime64('2017-07-22'): 0.3668951390526529,\n",
       " numpy.datetime64('2017-07-23'): 0.37507354698490103,\n",
       " numpy.datetime64('2017-07-24'): 0.3629416159995851,\n",
       " numpy.datetime64('2017-07-25'): 0.37042480089078583,\n",
       " numpy.datetime64('2017-07-26'): 0.38019509783338973,\n",
       " numpy.datetime64('2017-07-27'): 0.43439448038455103,\n",
       " numpy.datetime64('2017-07-28'): 0.4247389882114243,\n",
       " numpy.datetime64('2017-07-29'): 0.426843705455454,\n",
       " numpy.datetime64('2017-07-30'): 0.4361520342380568,\n",
       " numpy.datetime64('2017-07-31'): 0.4200750285753559,\n",
       " numpy.datetime64('2017-08-01'): 0.4542566127676715,\n",
       " numpy.datetime64('2017-08-02'): 0.4157632823691794,\n",
       " numpy.datetime64('2017-08-03'): 0.429311983131661,\n",
       " numpy.datetime64('2017-08-04'): 0.4101784558504935,\n",
       " numpy.datetime64('2017-08-05'): 0.43706172226726925,\n",
       " numpy.datetime64('2017-08-06'): 0.431137262512626,\n",
       " numpy.datetime64('2017-08-07'): 0.4926163366152293,\n",
       " numpy.datetime64('2017-08-08'): 0.5464932735649618,\n",
       " numpy.datetime64('2017-08-09'): 0.44978154454393116,\n",
       " numpy.datetime64('2017-08-10'): 0.37473085282876534,\n",
       " numpy.datetime64('2017-08-11'): 0.3621063788806066,\n",
       " numpy.datetime64('2017-08-12'): 0.3835506773119253,\n",
       " numpy.datetime64('2017-08-13'): 0.4161616246698694,\n",
       " numpy.datetime64('2017-08-14'): 0.41869248648243534,\n",
       " numpy.datetime64('2017-08-15'): 0.4341829541663609,\n",
       " numpy.datetime64('2017-08-16'): 0.4274577398216358,\n",
       " numpy.datetime64('2017-08-17'): 0.42527460778633747,\n",
       " numpy.datetime64('2017-08-18'): 0.4291058052112591,\n",
       " numpy.datetime64('2017-08-19'): 0.4613935464069096,\n",
       " numpy.datetime64('2017-08-20'): 0.4399266778601566,\n",
       " numpy.datetime64('2017-08-21'): 0.42770219094160156,\n",
       " numpy.datetime64('2017-08-22'): 0.4241650866413707,\n",
       " numpy.datetime64('2017-08-23'): 0.4280899265562062,\n",
       " numpy.datetime64('2017-08-24'): 0.4813855332628587,\n",
       " numpy.datetime64('2017-08-25'): 0.4595689021254729,\n",
       " numpy.datetime64('2017-08-26'): 0.6832640994309405,\n",
       " numpy.datetime64('2017-08-27'): 0.7083510667477572,\n",
       " numpy.datetime64('2017-08-28'): 0.5439919495684599,\n",
       " numpy.datetime64('2017-08-29'): 0.397859551240075,\n",
       " numpy.datetime64('2017-08-30'): 0.39591904957482105,\n",
       " numpy.datetime64('2017-08-31'): 0.45621552093504764,\n",
       " numpy.datetime64('2017-09-01'): 0.5335859322373485,\n",
       " numpy.datetime64('2017-09-02'): 0.5715284324460049,\n",
       " numpy.datetime64('2017-09-03'): 0.5664540586593321,\n",
       " numpy.datetime64('2017-09-04'): 0.501321153766731,\n",
       " numpy.datetime64('2017-09-05'): 0.47910477702559506,\n",
       " numpy.datetime64('2017-09-06'): 0.49676425524137613,\n",
       " numpy.datetime64('2017-09-07'): 0.47455235485367653,\n",
       " numpy.datetime64('2017-09-08'): 0.48526252849117424,\n",
       " numpy.datetime64('2017-09-09'): 0.528826136855407,\n",
       " numpy.datetime64('2017-09-10'): 0.5285817449443648,\n",
       " numpy.datetime64('2017-09-11'): 0.4762763114442738,\n",
       " numpy.datetime64('2017-09-12'): 0.484814928597132,\n",
       " numpy.datetime64('2017-09-13'): 0.4851616802472779,\n",
       " numpy.datetime64('2017-09-14'): 0.41326276054005706,\n",
       " numpy.datetime64('2017-09-15'): 0.41073578092076307,\n",
       " numpy.datetime64('2017-09-16'): 0.41875279470318244,\n",
       " numpy.datetime64('2017-09-17'): 0.42205367973802543,\n",
       " numpy.datetime64('2017-09-18'): 0.39697558892592477,\n",
       " numpy.datetime64('2017-09-19'): 0.3833308548869165,\n",
       " numpy.datetime64('2017-09-20'): 0.3737859536730512,\n",
       " numpy.datetime64('2017-09-21'): 0.4378713023937637,\n",
       " numpy.datetime64('2017-09-22'): 0.42830089449492315,\n",
       " numpy.datetime64('2017-09-23'): 0.4475849328473915,\n",
       " numpy.datetime64('2017-09-24'): 0.4241922239560481,\n",
       " numpy.datetime64('2017-09-25'): 0.42145384326048907,\n",
       " numpy.datetime64('2017-09-26'): 0.43237946137091465,\n",
       " numpy.datetime64('2017-09-27'): 0.4748864825602169,\n",
       " numpy.datetime64('2017-09-28'): 0.5195760385514303,\n",
       " numpy.datetime64('2017-09-29'): 0.6948848894144664,\n",
       " numpy.datetime64('2017-09-30'): 0.6814190606536683,\n",
       " numpy.datetime64('2017-10-01'): 0.6592534176954485,\n",
       " numpy.datetime64('2017-10-02'): 0.6111941885576323,\n",
       " numpy.datetime64('2017-10-03'): 0.6375544438756637,\n",
       " numpy.datetime64('2017-10-04'): 0.6414760698334498,\n",
       " numpy.datetime64('2017-10-05'): 0.38306188389500745,\n",
       " numpy.datetime64('2017-10-06'): 0.37775557049208336,\n",
       " numpy.datetime64('2017-10-07'): 0.3868024495493399,\n",
       " numpy.datetime64('2017-10-08'): 0.3857892823424997,\n",
       " numpy.datetime64('2017-10-09'): 0.3683173435617489,\n",
       " numpy.datetime64('2017-10-10'): 0.3696111036675954,\n",
       " numpy.datetime64('2017-10-11'): 0.36951232644209975,\n",
       " numpy.datetime64('2017-10-12'): 0.3680596541404078,\n",
       " numpy.datetime64('2017-10-13'): 0.36625219649138285,\n",
       " numpy.datetime64('2017-10-14'): 0.40977919239021554,\n",
       " numpy.datetime64('2017-10-15'): 0.5340959692114646,\n",
       " numpy.datetime64('2017-10-16'): 0.4058599702082757,\n",
       " numpy.datetime64('2017-10-17'): 0.4408232284285016,\n",
       " numpy.datetime64('2017-10-18'): 0.45018646218038244,\n",
       " numpy.datetime64('2017-10-19'): 0.4478852353701433,\n",
       " numpy.datetime64('2017-10-20'): 0.5888457566470932,\n",
       " numpy.datetime64('2017-10-21'): 0.5301555014086642,\n",
       " numpy.datetime64('2017-10-22'): 0.526504094181385,\n",
       " numpy.datetime64('2017-10-23'): 0.4552307418656888,\n",
       " numpy.datetime64('2017-10-24'): 0.4979878929374485,\n",
       " numpy.datetime64('2017-10-25'): 0.5224391512916917,\n",
       " numpy.datetime64('2017-10-26'): 0.5124533849720797,\n",
       " numpy.datetime64('2017-10-27'): 0.550767609826219,\n",
       " numpy.datetime64('2017-10-28'): 0.5627885268246814,\n",
       " numpy.datetime64('2017-10-29'): 0.5678733232602127,\n",
       " numpy.datetime64('2017-10-30'): 0.5471424236585698,\n",
       " numpy.datetime64('2017-10-31'): 0.5412400306644338,\n",
       " numpy.datetime64('2017-11-01'): 0.566245666645819,\n",
       " numpy.datetime64('2017-11-02'): 0.6735661657052304,\n",
       " numpy.datetime64('2017-11-03'): 0.6280969561706921,\n",
       " numpy.datetime64('2017-11-04'): 0.6406137948348445,\n",
       " numpy.datetime64('2017-11-05'): 0.6502371363313018,\n",
       " numpy.datetime64('2017-11-06'): 0.650858422140846,\n",
       " numpy.datetime64('2017-11-07'): 0.5994026856688921,\n",
       " numpy.datetime64('2017-11-08'): 0.6011454618447585,\n",
       " numpy.datetime64('2017-11-09'): 0.5832388604342617,\n",
       " numpy.datetime64('2017-11-10'): 0.6141481081992463,\n",
       " numpy.datetime64('2017-11-11'): 0.659031981489535,\n",
       " numpy.datetime64('2017-11-12'): 0.6503811225668856,\n",
       " numpy.datetime64('2017-11-13'): 0.6323006289978996,\n",
       " numpy.datetime64('2017-11-14'): 0.6303886032953913,\n",
       " numpy.datetime64('2017-11-15'): 0.7004077952528113,\n",
       " numpy.datetime64('2017-11-16'): 0.6649519007136769,\n",
       " numpy.datetime64('2017-11-17'): 0.6666017434202546,\n",
       " numpy.datetime64('2017-11-18'): 0.6689781586242413,\n",
       " numpy.datetime64('2017-11-19'): 0.670474932264556,\n",
       " numpy.datetime64('2017-11-20'): 0.6760207063751562,\n",
       " numpy.datetime64('2017-11-21'): 0.6588731062155985,\n",
       " numpy.datetime64('2017-11-22'): 0.6645530928200944,\n",
       " numpy.datetime64('2017-11-23'): 0.6925010035521518,\n",
       " numpy.datetime64('2017-11-24'): 0.7033250528792452,\n",
       " numpy.datetime64('2017-11-25'): 0.6927433725667728,\n",
       " numpy.datetime64('2017-11-26'): 0.692707467495773,\n",
       " numpy.datetime64('2017-11-27'): 0.681617093311898,\n",
       " numpy.datetime64('2017-11-28'): 0.6515304414336401,\n",
       " numpy.datetime64('2017-11-29'): 0.6227805893072422,\n",
       " numpy.datetime64('2017-11-30'): 0.6611357501072698,\n",
       " numpy.datetime64('2017-12-01'): 0.5929073115097467,\n",
       " numpy.datetime64('2017-12-02'): 0.6129500280874992,\n",
       " numpy.datetime64('2017-12-03'): 0.61519087164693,\n",
       " numpy.datetime64('2017-12-04'): 0.6419135681672521,\n",
       " numpy.datetime64('2017-12-05'): 0.709410267643647,\n",
       " numpy.datetime64('2017-12-06'): 0.7282757122233446,\n",
       " numpy.datetime64('2017-12-07'): 0.7316324251354278,\n",
       " numpy.datetime64('2017-12-08'): 0.6767465823413676,\n",
       " numpy.datetime64('2017-12-09'): 0.7020653607467433,\n",
       " numpy.datetime64('2017-12-10'): 0.6847766891197762,\n",
       " numpy.datetime64('2017-12-11'): 0.6570550185173154,\n",
       " numpy.datetime64('2017-12-12'): 0.6974823169573794,\n",
       " numpy.datetime64('2017-12-13'): 0.631451689869699,\n",
       " numpy.datetime64('2017-12-14'): 0.590808883830501,\n",
       " numpy.datetime64('2017-12-15'): 0.5838007403910507,\n",
       " numpy.datetime64('2017-12-16'): 0.5913713060658946,\n",
       " numpy.datetime64('2017-12-17'): 0.5935865864005067,\n",
       " numpy.datetime64('2017-12-18'): 0.6035608461284394,\n",
       " numpy.datetime64('2017-12-19'): 0.6211714123444142,\n",
       " numpy.datetime64('2017-12-20'): 0.6103138895346055,\n",
       " numpy.datetime64('2017-12-21'): 0.5824756408558848,\n",
       " numpy.datetime64('2017-12-22'): 0.5821315159613218,\n",
       " numpy.datetime64('2017-12-23'): 0.5972855961961864,\n",
       " numpy.datetime64('2017-12-24'): 0.5977100385447336,\n",
       " numpy.datetime64('2017-12-25'): 0.5767718836152512,\n",
       " numpy.datetime64('2017-12-26'): 0.5571705671979273,\n",
       " numpy.datetime64('2017-12-27'): 0.5754913904711666,\n",
       " numpy.datetime64('2017-12-28'): 0.56029569754343,\n",
       " numpy.datetime64('2017-12-29'): 0.564560229453184,\n",
       " numpy.datetime64('2017-12-30'): 0.5426348389294026,\n",
       " numpy.datetime64('2017-12-31'): 0.5274449754659699,\n",
       " numpy.datetime64('2018-01-01'): 0.5757342747746895,\n",
       " numpy.datetime64('2018-01-02'): 0.6285427743569092,\n",
       " numpy.datetime64('2018-01-03'): 0.6186600858474377,\n",
       " numpy.datetime64('2018-01-04'): 0.7129228401302293,\n",
       " numpy.datetime64('2018-01-05'): 0.7316369681245333,\n",
       " numpy.datetime64('2018-01-06'): 0.7429889634989514,\n",
       " numpy.datetime64('2018-01-07'): 0.723678201983243,\n",
       " numpy.datetime64('2018-01-08'): 0.615426281867932,\n",
       " numpy.datetime64('2018-01-09'): 0.5911097916600628,\n",
       " numpy.datetime64('2018-01-10'): 0.5949924819255157,\n",
       " numpy.datetime64('2018-01-11'): 0.5739603204758303,\n",
       " numpy.datetime64('2018-01-12'): 0.5565127435696956,\n",
       " numpy.datetime64('2018-01-13'): 0.5789674359615256,\n",
       " numpy.datetime64('2018-01-14'): 0.5700780067503611,\n",
       " numpy.datetime64('2018-01-15'): 0.49295705844529397,\n",
       " numpy.datetime64('2018-01-16'): 0.5026985579757878,\n",
       " numpy.datetime64('2018-01-17'): 0.49385144296609235,\n",
       " numpy.datetime64('2018-01-18'): 0.4987680068470323,\n",
       " numpy.datetime64('2018-01-19'): 0.5330611736519497,\n",
       " numpy.datetime64('2018-01-20'): 0.5317678623818602,\n",
       " numpy.datetime64('2018-01-21'): 0.5511534358617569,\n",
       " numpy.datetime64('2018-01-22'): 0.5056371904420636,\n",
       " numpy.datetime64('2018-01-23'): 0.5188550679756462,\n",
       " numpy.datetime64('2018-01-24'): 0.5096527293605236,\n",
       " numpy.datetime64('2018-01-25'): 0.5023427169591124,\n",
       " numpy.datetime64('2018-01-26'): 0.513366721790146,\n",
       " numpy.datetime64('2018-01-27'): 0.5389531992370991,\n",
       " numpy.datetime64('2018-01-28'): 0.5151933035592099,\n",
       " numpy.datetime64('2018-01-29'): 0.4753135764181552,\n",
       " numpy.datetime64('2018-01-30'): 0.5026228027914644,\n",
       " numpy.datetime64('2018-01-31'): 0.46512273430492135,\n",
       " numpy.datetime64('2018-02-01'): 0.4781986806228955,\n",
       " numpy.datetime64('2018-02-02'): 0.49067235520273916,\n",
       " numpy.datetime64('2018-02-03'): 0.5069012265715821,\n",
       " numpy.datetime64('2018-02-04'): 0.5091803032883429,\n",
       " numpy.datetime64('2018-02-05'): 0.49329765978339024,\n",
       " numpy.datetime64('2018-02-06'): 0.4837809007951488,\n",
       " numpy.datetime64('2018-02-07'): 0.47366187245907004,\n",
       " numpy.datetime64('2018-02-08'): 0.5265142825893785,\n",
       " numpy.datetime64('2018-02-09'): 0.558984421309535,\n",
       " numpy.datetime64('2018-02-10'): 0.5784196461755976,\n",
       " numpy.datetime64('2018-02-11'): 0.563368398235028,\n",
       " numpy.datetime64('2018-02-12'): 0.5344205150324746,\n",
       " numpy.datetime64('2018-02-13'): 0.5417072291730447,\n",
       " numpy.datetime64('2018-02-14'): 0.5437802363426907,\n",
       " numpy.datetime64('2018-02-15'): 0.5103150923578578,\n",
       " numpy.datetime64('2018-02-16'): 0.5026349677789407,\n",
       " numpy.datetime64('2018-02-17'): 0.5078014835298981,\n",
       " numpy.datetime64('2018-02-18'): 0.49528743307669776,\n",
       " numpy.datetime64('2018-02-19'): 0.5349075246030863,\n",
       " numpy.datetime64('2018-02-20'): 0.5324310416396,\n",
       " numpy.datetime64('2018-02-21'): 0.5399625877431943,\n",
       " numpy.datetime64('2018-02-22'): 0.5853495692552901,\n",
       " numpy.datetime64('2018-02-23'): 0.5831917879687936,\n",
       " numpy.datetime64('2018-02-24'): 0.6112684598138641,\n",
       " numpy.datetime64('2018-02-25'): 0.6096607288064756,\n",
       " numpy.datetime64('2018-02-26'): 0.5299758502062517,\n",
       " numpy.datetime64('2018-02-27'): 0.5319331767010115,\n",
       " numpy.datetime64('2018-02-28'): 0.583350666286358,\n",
       " numpy.datetime64('2018-03-01'): 0.5414407025775699,\n",
       " numpy.datetime64('2018-03-02'): 0.5449616193266816,\n",
       " numpy.datetime64('2018-03-03'): 0.5719167827727145,\n",
       " numpy.datetime64('2018-03-04'): 0.567936787791493,\n",
       " numpy.datetime64('2018-03-05'): 0.5825169825696455,\n",
       " numpy.datetime64('2018-03-06'): 0.5653332229260397,\n",
       " numpy.datetime64('2018-03-07'): 0.5499134610020454,\n",
       " numpy.datetime64('2018-03-08'): 0.5344211746360599,\n",
       " numpy.datetime64('2018-03-09'): 0.525019956833485,\n",
       " numpy.datetime64('2018-03-10'): 0.5637565819229711,\n",
       " numpy.datetime64('2018-03-11'): 0.5597164796649244,\n",
       " numpy.datetime64('2018-03-12'): 0.5209839489606747,\n",
       " numpy.datetime64('2018-03-13'): 0.5292712271994138,\n",
       " numpy.datetime64('2018-03-14'): 0.5518118157260579,\n",
       " numpy.datetime64('2018-03-15'): 0.5213662098631241,\n",
       " numpy.datetime64('2018-03-16'): 0.5339612918892602,\n",
       " numpy.datetime64('2018-03-17'): 0.554024595736565,\n",
       " numpy.datetime64('2018-03-18'): 0.5481189793481774,\n",
       " numpy.datetime64('2018-03-19'): 0.5172923329559285,\n",
       " numpy.datetime64('2018-03-20'): 0.5229655078954422,\n",
       " numpy.datetime64('2018-03-21'): 0.5108881348330462,\n",
       " numpy.datetime64('2018-03-22'): 0.5350354137387122,\n",
       " numpy.datetime64('2018-03-23'): 0.5645288135985126,\n",
       " numpy.datetime64('2018-03-24'): 0.5629211943591279,\n",
       " numpy.datetime64('2018-03-25'): 0.5539052507692609,\n",
       " numpy.datetime64('2018-03-26'): 0.510177794925266,\n",
       " numpy.datetime64('2018-03-27'): 0.5076121447300015,\n",
       " numpy.datetime64('2018-03-28'): 0.5120813547135159,\n",
       " numpy.datetime64('2018-03-29'): 0.532798266887385,\n",
       " numpy.datetime64('2018-03-30'): 0.566387171956918,\n",
       " numpy.datetime64('2018-03-31'): 0.5953270438295188,\n",
       " numpy.datetime64('2018-04-01'): 0.5953150828861269,\n",
       " numpy.datetime64('2018-04-02'): 0.5529744769158255,\n",
       " numpy.datetime64('2018-04-03'): 0.5659591764516197,\n",
       " numpy.datetime64('2018-04-04'): 0.5703604094744023,\n",
       " numpy.datetime64('2018-04-05'): 0.5538517088662827,\n",
       " numpy.datetime64('2018-04-06'): 0.5582228059030875,\n",
       " numpy.datetime64('2018-04-07'): 0.5602891773074006,\n",
       " numpy.datetime64('2018-04-08'): 0.5637627390968993,\n",
       " numpy.datetime64('2018-04-09'): 0.5705595274301106,\n",
       " numpy.datetime64('2018-04-10'): 0.5773334296699995,\n",
       " numpy.datetime64('2018-04-11'): 0.5791469870417935,\n",
       " numpy.datetime64('2018-04-12'): 0.5641393300327183,\n",
       " numpy.datetime64('2018-04-13'): 0.574515153954481,\n",
       " numpy.datetime64('2018-04-14'): 0.5684637155650863,\n",
       " numpy.datetime64('2018-04-15'): 0.649883435458015,\n",
       " numpy.datetime64('2018-04-16'): 0.6020561492692809,\n",
       " numpy.datetime64('2018-04-17'): 0.5696323714409698,\n",
       " numpy.datetime64('2018-04-18'): 0.5874844518788597,\n",
       " numpy.datetime64('2018-04-19'): 0.5622535499248337,\n",
       " numpy.datetime64('2018-04-20'): 0.5684495697109806,\n",
       " numpy.datetime64('2018-04-21'): 0.5770449572308395,\n",
       " numpy.datetime64('2018-04-22'): 0.581087395985669,\n",
       " numpy.datetime64('2018-04-23'): 0.5433331825886963,\n",
       " numpy.datetime64('2018-04-24'): 0.5315177695614755,\n",
       " numpy.datetime64('2018-04-25'): 0.5132872690847867,\n",
       " numpy.datetime64('2018-04-26'): 0.538310756542404,\n",
       " numpy.datetime64('2018-04-27'): 0.5244420676633741,\n",
       " numpy.datetime64('2018-04-28'): 0.5382315534969304,\n",
       " numpy.datetime64('2018-04-29'): 0.5682359106155025,\n",
       " numpy.datetime64('2018-04-30'): 0.544330237408866,\n",
       " numpy.datetime64('2018-05-01'): 0.5357384611757594,\n",
       " numpy.datetime64('2018-05-02'): 0.5043485172304457,\n",
       " numpy.datetime64('2018-05-03'): 0.48839927180537196,\n",
       " numpy.datetime64('2018-05-04'): 0.45783599649297513,\n",
       " numpy.datetime64('2018-05-05'): 0.4449385293176193,\n",
       " numpy.datetime64('2018-05-06'): 0.45034660507272856,\n",
       " numpy.datetime64('2018-05-07'): 0.4384663288348392,\n",
       " numpy.datetime64('2018-05-08'): 0.4447524347040711,\n",
       " numpy.datetime64('2018-05-09'): 0.4437990646280987,\n",
       " numpy.datetime64('2018-05-10'): 0.4619162737372253,\n",
       " numpy.datetime64('2018-05-11'): 0.46378847582727484,\n",
       " numpy.datetime64('2018-05-12'): 0.46956957597732984,\n",
       " numpy.datetime64('2018-05-13'): 0.4720927338656282,\n",
       " numpy.datetime64('2018-05-14'): 0.4476591872007181,\n",
       " numpy.datetime64('2018-05-15'): 0.4521499363746482,\n",
       " numpy.datetime64('2018-05-16'): 0.4498630736945721,\n",
       " numpy.datetime64('2018-05-17'): 0.469198982300812,\n",
       " numpy.datetime64('2018-05-18'): 0.4693786590067871,\n",
       " numpy.datetime64('2018-05-19'): 0.4751081829302809,\n",
       " numpy.datetime64('2018-05-20'): 0.500832917625202,\n",
       " numpy.datetime64('2018-05-21'): 0.46405230833438804,\n",
       " numpy.datetime64('2018-05-22'): 0.4542704728425136,\n",
       " numpy.datetime64('2018-05-23'): 0.46069511776561856,\n",
       " numpy.datetime64('2018-05-24'): 0.49992923599605904,\n",
       " numpy.datetime64('2018-05-25'): 0.482693701952978,\n",
       " numpy.datetime64('2018-05-26'): 0.4865504446074958,\n",
       " numpy.datetime64('2018-05-27'): 0.4961981383947186,\n",
       " numpy.datetime64('2018-05-28'): 0.49780824493163933,\n",
       " numpy.datetime64('2018-05-29'): 0.4807013888915675,\n",
       " numpy.datetime64('2018-05-30'): 0.4778774698745511,\n",
       " numpy.datetime64('2018-05-31'): 0.4638021364332683,\n",
       " numpy.datetime64('2018-06-01'): 0.5143437309173907,\n",
       " numpy.datetime64('2018-06-02'): 0.5190967569621948,\n",
       " numpy.datetime64('2018-06-03'): 0.5184862154396763,\n",
       " numpy.datetime64('2018-06-04'): 0.4856220624529174,\n",
       " numpy.datetime64('2018-06-05'): 0.48845031146830165,\n",
       " numpy.datetime64('2018-06-06'): 0.4924360518701979,\n",
       " numpy.datetime64('2018-06-07'): 0.4826568119176157,\n",
       " numpy.datetime64('2018-06-08'): 0.4913357507724008,\n",
       " numpy.datetime64('2018-06-09'): 0.5132422398287152,\n",
       " numpy.datetime64('2018-06-10'): 0.5275527776195328,\n",
       " numpy.datetime64('2018-06-11'): 0.4791875341023381,\n",
       " numpy.datetime64('2018-06-12'): 0.479656854853642,\n",
       " numpy.datetime64('2018-06-13'): 0.47808134662235163,\n",
       " numpy.datetime64('2018-06-14'): 0.4962197205843564,\n",
       " numpy.datetime64('2018-06-15'): 0.5155007224441019,\n",
       " numpy.datetime64('2018-06-16'): 0.5172989585173727,\n",
       " numpy.datetime64('2018-06-17'): 0.5526152402719947,\n",
       " numpy.datetime64('2018-06-18'): 0.6207554496084198,\n",
       " numpy.datetime64('2018-06-19'): 0.5082124181259784,\n",
       " numpy.datetime64('2018-06-20'): 0.5356605007366066,\n",
       " numpy.datetime64('2018-06-21'): 0.5159984402620129,\n",
       " numpy.datetime64('2018-06-22'): 0.5147184438366307,\n",
       " numpy.datetime64('2018-06-23'): 0.5221179510187017,\n",
       " numpy.datetime64('2018-06-24'): 0.5207228739523508,\n",
       " numpy.datetime64('2018-06-25'): 0.4703101696937963,\n",
       " numpy.datetime64('2018-06-26'): 0.4770108536718266,\n",
       " numpy.datetime64('2018-06-27'): 0.4776590952000808,\n",
       " numpy.datetime64('2018-06-28'): 0.5013775474055712,\n",
       " numpy.datetime64('2018-06-29'): 0.516000023232099,\n",
       " numpy.datetime64('2018-06-30'): 0.5574775947339174,\n",
       " numpy.datetime64('2018-07-01'): 0.5477835666499445,\n",
       " numpy.datetime64('2018-07-02'): 0.49274706869540047,\n",
       " numpy.datetime64('2018-07-03'): 0.5057061741161678,\n",
       " numpy.datetime64('2018-07-04'): 0.49321701402968376,\n",
       " numpy.datetime64('2018-07-05'): 0.47188132090658097,\n",
       " numpy.datetime64('2018-07-06'): 0.5291012792474984,\n",
       " numpy.datetime64('2018-07-07'): 0.5643302059117115,\n",
       " numpy.datetime64('2018-07-08'): 0.5354426106847645,\n",
       " numpy.datetime64('2018-07-09'): 0.500908482262622,\n",
       " numpy.datetime64('2018-07-10'): 0.5126820616768492,\n",
       " numpy.datetime64('2018-07-11'): 0.4814752711288503,\n",
       " numpy.datetime64('2018-07-12'): 0.5192968156660445,\n",
       " numpy.datetime64('2018-07-13'): 0.5682408073342925,\n",
       " numpy.datetime64('2018-07-14'): 0.5831050876809957,\n",
       " numpy.datetime64('2018-07-15'): 0.5619773786076225,\n",
       " numpy.datetime64('2018-07-16'): 0.4961909229201216,\n",
       " numpy.datetime64('2018-07-17'): 0.5150736196478866,\n",
       " numpy.datetime64('2018-07-18'): 0.49172916169605,\n",
       " numpy.datetime64('2018-07-19'): 0.5272982905457254,\n",
       " numpy.datetime64('2018-07-20'): 0.5673428809348966,\n",
       " numpy.datetime64('2018-07-21'): 0.6022709044202202,\n",
       " numpy.datetime64('2018-07-22'): 0.5670457690807995,\n",
       " numpy.datetime64('2018-07-23'): 0.5149017366089387,\n",
       " numpy.datetime64('2018-07-24'): 0.5500621376437799,\n",
       " numpy.datetime64('2018-07-25'): 0.5236458261367425,\n",
       " numpy.datetime64('2018-07-26'): 0.5311628845784642,\n",
       " numpy.datetime64('2018-07-27'): 0.5471678154117667,\n",
       " numpy.datetime64('2018-07-28'): 0.5703314119859821,\n",
       " numpy.datetime64('2018-07-29'): 0.5741883659858674,\n",
       " numpy.datetime64('2018-07-30'): 0.5146292131123568,\n",
       " numpy.datetime64('2018-07-31'): 0.5786795900196913,\n",
       " numpy.datetime64('2018-08-01'): 0.5300494979705512,\n",
       " numpy.datetime64('2018-08-02'): 0.5299602221990076,\n",
       " numpy.datetime64('2018-08-03'): 0.5382428781672993,\n",
       " numpy.datetime64('2018-08-04'): 0.5875367435080482,\n",
       " numpy.datetime64('2018-08-05'): 0.572608805246993,\n",
       " numpy.datetime64('2018-08-06'): 0.5384343663289117,\n",
       " numpy.datetime64('2018-08-07'): 0.5482471423685239,\n",
       " numpy.datetime64('2018-08-08'): 0.699188295484113,\n",
       " numpy.datetime64('2018-08-09'): 0.5373462850349285,\n",
       " numpy.datetime64('2018-08-10'): 0.552021959014705,\n",
       " numpy.datetime64('2018-08-11'): 0.5811551423707921,\n",
       " numpy.datetime64('2018-08-12'): 0.5828632497907359,\n",
       " numpy.datetime64('2018-08-13'): 0.5352421948748627,\n",
       " numpy.datetime64('2018-08-14'): 0.558143249896748,\n",
       " numpy.datetime64('2018-08-15'): 0.5269367257274352,\n",
       " numpy.datetime64('2018-08-16'): 0.5457425665736536,\n",
       " numpy.datetime64('2018-08-17'): 0.5807044357134046,\n",
       " numpy.datetime64('2018-08-18'): 0.6076112333837174,\n",
       " numpy.datetime64('2018-08-19'): 0.6120297434781478,\n",
       " numpy.datetime64('2018-08-20'): 0.5583023475199791,\n",
       " numpy.datetime64('2018-08-21'): 0.5742188308579285,\n",
       " numpy.datetime64('2018-08-22'): 0.5449538952317249,\n",
       " numpy.datetime64('2018-08-23'): 0.5381683315984644,\n",
       " numpy.datetime64('2018-08-24'): 0.5765271173025545,\n",
       " numpy.datetime64('2018-08-25'): 0.6324989549195967,\n",
       " numpy.datetime64('2018-08-26'): 0.6174455352198475,\n",
       " numpy.datetime64('2018-08-27'): 0.5542278451261926,\n",
       " numpy.datetime64('2018-08-28'): 0.5666127115462778,\n",
       " numpy.datetime64('2018-08-29'): 0.5411049240311598,\n",
       " numpy.datetime64('2018-08-30'): 0.5360162399131954,\n",
       " numpy.datetime64('2018-08-31'): 0.5604080661580192,\n",
       " numpy.datetime64('2018-09-01'): 0.5673550229120264,\n",
       " numpy.datetime64('2018-09-02'): 0.5567512826994363,\n",
       " numpy.datetime64('2018-09-03'): 0.5042457983543919,\n",
       " numpy.datetime64('2018-09-04'): 0.5474096743303172,\n",
       " numpy.datetime64('2018-09-05'): 0.5221505281850907,\n",
       " numpy.datetime64('2018-09-06'): 0.5335003113393848,\n",
       " numpy.datetime64('2018-09-07'): 0.553219907668661,\n",
       " numpy.datetime64('2018-09-08'): 0.604855596975864,\n",
       " numpy.datetime64('2018-09-09'): 0.5839494670093875,\n",
       " numpy.datetime64('2018-09-10'): 0.5297240665750611,\n",
       " numpy.datetime64('2018-09-11'): 0.5509383498001904,\n",
       " numpy.datetime64('2018-09-12'): 0.538573324550145,\n",
       " numpy.datetime64('2018-09-13'): 0.5524794742070865,\n",
       " numpy.datetime64('2018-09-14'): 0.571690596814055,\n",
       " numpy.datetime64('2018-09-15'): 0.6101020039202909,\n",
       " numpy.datetime64('2018-09-16'): 0.6077092025271335,\n",
       " numpy.datetime64('2018-09-17'): 0.5613954879903859,\n",
       " numpy.datetime64('2018-09-18'): 0.5805615246322238,\n",
       " numpy.datetime64('2018-09-19'): 0.5814091827767041,\n",
       " numpy.datetime64('2018-09-20'): 0.5586441479966779,\n",
       " numpy.datetime64('2018-09-21'): 0.5878861376595514,\n",
       " numpy.datetime64('2018-09-22'): 0.6420833325890377,\n",
       " numpy.datetime64('2018-09-23'): 0.619193479366986,\n",
       " numpy.datetime64('2018-09-24'): 0.5947887874840782,\n",
       " numpy.datetime64('2018-09-25'): 0.5515486529624734,\n",
       " numpy.datetime64('2018-09-26'): 0.5374512242575249,\n",
       " numpy.datetime64('2018-09-27'): 0.5262385758255693,\n",
       " numpy.datetime64('2018-09-28'): 0.534075711951443,\n",
       " numpy.datetime64('2018-09-29'): 0.5485792566868837,\n",
       " numpy.datetime64('2018-09-30'): 0.5481499139084827,\n",
       " numpy.datetime64('2018-10-01'): 0.5015660801638535,\n",
       " numpy.datetime64('2018-10-02'): 0.5169139415080432,\n",
       " numpy.datetime64('2018-10-03'): 0.5161087534310078,\n",
       " numpy.datetime64('2018-10-04'): 0.528896754346394,\n",
       " numpy.datetime64('2018-10-05'): 0.5424165671909605,\n",
       " numpy.datetime64('2018-10-06'): 0.5350140104381793,\n",
       " numpy.datetime64('2018-10-07'): 0.5445951631132481,\n",
       " numpy.datetime64('2018-10-08'): 0.5523773498186685,\n",
       " numpy.datetime64('2018-10-09'): 0.5372154075726815,\n",
       " numpy.datetime64('2018-10-10'): 0.5305062667996604,\n",
       " numpy.datetime64('2018-10-11'): 0.5173084165619827,\n",
       " numpy.datetime64('2018-10-12'): 0.5348555391370828,\n",
       " numpy.datetime64('2018-10-13'): 0.5569115091205477,\n",
       " numpy.datetime64('2018-10-14'): 0.5592526595167944,\n",
       " numpy.datetime64('2018-10-15'): 0.5665226770725522,\n",
       " numpy.datetime64('2018-10-16'): 0.564334533983059,\n",
       " numpy.datetime64('2018-10-17'): 0.5478849566976587,\n",
       " numpy.datetime64('2018-10-18'): 0.5683235273913934,\n",
       " numpy.datetime64('2018-10-19'): 0.6012844179842439,\n",
       " numpy.datetime64('2018-10-20'): 0.6772709875558595,\n",
       " numpy.datetime64('2018-10-21'): 0.6064151873071476,\n",
       " numpy.datetime64('2018-10-22'): 0.5342309637450234,\n",
       " numpy.datetime64('2018-10-23'): 0.5366042680927022,\n",
       " numpy.datetime64('2018-10-24'): 0.5401802956238234,\n",
       " numpy.datetime64('2018-10-25'): 0.54635848825319,\n",
       " numpy.datetime64('2018-10-26'): 0.5466994738143628,\n",
       " numpy.datetime64('2018-10-27'): 0.5768942725462747,\n",
       " numpy.datetime64('2018-10-28'): 0.5591901524691674,\n",
       " numpy.datetime64('2018-10-29'): 0.5581117873083322,\n",
       " numpy.datetime64('2018-10-30'): 0.5681197432830446,\n",
       " numpy.datetime64('2018-10-31'): 0.5386575589419279,\n",
       " numpy.datetime64('2018-11-01'): 0.5218353706318768,\n",
       " numpy.datetime64('2018-11-02'): 0.5278316471704557,\n",
       " numpy.datetime64('2018-11-03'): 0.5456765531676971,\n",
       " numpy.datetime64('2018-11-04'): 0.5337485953133044,\n",
       " numpy.datetime64('2018-11-05'): 0.5248181470739101,\n",
       " numpy.datetime64('2018-11-06'): 0.5474046591534487,\n",
       " numpy.datetime64('2018-11-07'): 0.5667522608865109,\n",
       " numpy.datetime64('2018-11-08'): 0.5505920768473377,\n",
       " numpy.datetime64('2018-11-09'): 0.5796563683490631,\n",
       " numpy.datetime64('2018-11-10'): 0.6148968092706284,\n",
       " numpy.datetime64('2018-11-11'): 0.6891785500564771,\n",
       " numpy.datetime64('2018-11-12'): 0.5455325689010432,\n",
       " numpy.datetime64('2018-11-13'): 0.5099333084728319,\n",
       " numpy.datetime64('2018-11-14'): 0.4957954967182043,\n",
       " numpy.datetime64('2018-11-15'): 0.5197295406233318,\n",
       " numpy.datetime64('2018-11-16'): 0.5177493560260973,\n",
       " numpy.datetime64('2018-11-17'): 0.5386541541799144,\n",
       " numpy.datetime64('2018-11-18'): 0.5384803201232108,\n",
       " numpy.datetime64('2018-11-19'): 0.5155085702746687,\n",
       " numpy.datetime64('2018-11-20'): 0.5224404090850514,\n",
       " numpy.datetime64('2018-11-21'): 0.5185162961810527,\n",
       " numpy.datetime64('2018-11-22'): 0.5349529805579419,\n",
       " numpy.datetime64('2018-11-23'): 0.5375088778741766,\n",
       " numpy.datetime64('2018-11-24'): 0.5850440338100534,\n",
       " numpy.datetime64('2018-11-25'): 0.5553530294916992,\n",
       " numpy.datetime64('2018-11-26'): 0.5285869922890661,\n",
       " numpy.datetime64('2018-11-27'): 0.5306964851835734,\n",
       " numpy.datetime64('2018-11-28'): 0.5246174749272113,\n",
       " numpy.datetime64('2018-11-29'): 0.5440935000986162,\n",
       " numpy.datetime64('2018-11-30'): 0.5444535059047104,\n",
       " numpy.datetime64('2018-12-01'): 0.5555355853351137,\n",
       " numpy.datetime64('2018-12-02'): 0.552833992747662,\n",
       " numpy.datetime64('2018-12-03'): 0.5356355180980048,\n",
       " numpy.datetime64('2018-12-04'): 0.5334858893604448,\n",
       " numpy.datetime64('2018-12-05'): 0.5217747501557539,\n",
       " numpy.datetime64('2018-12-06'): 0.5392711212819599,\n",
       " numpy.datetime64('2018-12-07'): 0.5406275861767009,\n",
       " numpy.datetime64('2018-12-08'): 0.5978579308604475,\n",
       " numpy.datetime64('2018-12-09'): 0.5890812486535565,\n",
       " numpy.datetime64('2018-12-10'): 0.558491829768653,\n",
       " numpy.datetime64('2018-12-11'): 0.582870590646594,\n",
       " numpy.datetime64('2018-12-12'): 0.624194441746081,\n",
       " numpy.datetime64('2018-12-13'): 0.5554977768718639,\n",
       " numpy.datetime64('2018-12-14'): 0.5286181285596435,\n",
       " numpy.datetime64('2018-12-15'): 0.5445311395707118,\n",
       " numpy.datetime64('2018-12-16'): 0.5482355351629654,\n",
       " numpy.datetime64('2018-12-17'): 0.5308562693436589,\n",
       " numpy.datetime64('2018-12-18'): 0.5418085210952365,\n",
       " numpy.datetime64('2018-12-19'): 0.5175137640919634,\n",
       " numpy.datetime64('2018-12-20'): 0.5147483496231312,\n",
       " numpy.datetime64('2018-12-21'): 0.5471200247932609,\n",
       " numpy.datetime64('2018-12-22'): 0.5914495490516875,\n",
       " numpy.datetime64('2018-12-23'): 0.6003500037965606,\n",
       " numpy.datetime64('2018-12-24'): 0.34448514215234494,\n",
       " numpy.datetime64('2018-12-25'): 0.5349424441653684,\n",
       " numpy.datetime64('2018-12-26'): 0.5329915377262242,\n",
       " numpy.datetime64('2018-12-27'): 0.5367084801315052,\n",
       " numpy.datetime64('2018-12-28'): 0.54345045953109,\n",
       " numpy.datetime64('2018-12-29'): 0.5429578960660748,\n",
       " numpy.datetime64('2018-12-30'): 0.5744487355390698,\n",
       " numpy.datetime64('2018-12-31'): 0.5595315971197291,\n",
       " numpy.datetime64('2019-01-01'): 0.5293450279910322,\n",
       " numpy.datetime64('2019-01-02'): 0.5050302714780672}"
      ]
     },
     "execution_count": 262,
     "metadata": {},
     "output_type": "execute_result"
    }
   ],
   "source": []
  },
  {
   "cell_type": "code",
   "execution_count": null,
   "metadata": {},
   "outputs": [],
   "source": []
  }
 ],
 "metadata": {
  "kernelspec": {
   "display_name": "Python 3",
   "language": "python",
   "name": "python3"
  },
  "language_info": {
   "codemirror_mode": {
    "name": "ipython",
    "version": 3
   },
   "file_extension": ".py",
   "mimetype": "text/x-python",
   "name": "python",
   "nbconvert_exporter": "python",
   "pygments_lexer": "ipython3",
   "version": "3.6.4"
  }
 },
 "nbformat": 4,
 "nbformat_minor": 2
}
